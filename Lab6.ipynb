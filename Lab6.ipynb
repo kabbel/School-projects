{
 "cells": [
  {
   "cell_type": "code",
   "execution_count": 1,
   "metadata": {},
   "outputs": [],
   "source": [
    "import numpy as np\n",
    "from numpy import linalg as LA\n",
    "from sklearn import metrics\n",
    "from sklearn.datasets import load_digits\n",
    "from sklearn.model_selection import train_test_split\n",
    "from time import process_time\n",
    "from scipy.stats import norm\n",
    "from scipy.stats import multivariate_normal as mvn\n"
   ]
  },
  {
   "cell_type": "markdown",
   "metadata": {},
   "source": [
    "## Preprocessing, Initialisation "
   ]
  },
  {
   "cell_type": "code",
   "execution_count": 2,
   "metadata": {},
   "outputs": [],
   "source": [
    "x, y = load_digits(return_X_y=True)\n",
    "\n",
    "# Normaliseing the data for numerical reasons\n",
    "x = x/16.0\n",
    "\n",
    "# Splitting\n",
    "X_train, X_test, y_train, y_test = train_test_split(x, y, test_size=0.3, random_state=42)"
   ]
  },
  {
   "cell_type": "markdown",
   "metadata": {},
   "source": [
    "## EM-Algorithm"
   ]
  },
  {
   "cell_type": "code",
   "execution_count": null,
   "metadata": {},
   "outputs": [],
   "source": []
  },
  {
   "cell_type": "code",
   "execution_count": 3,
   "metadata": {},
   "outputs": [],
   "source": [
    "class GNBC:\n",
    "    def __init__(self, nb_classes, example_size, itr=10):\n",
    "        self.nb_classes = nb_classes\n",
    "        self.size = example_size\n",
    "        self.priors = {k:1/self.nb_classes for k in range(self.nb_classes)}\n",
    "        self.mean = np.zeros((nb_classes,self.size))\n",
    "        self.var = np.zeros((nb_classes,self.size))\n",
    "        self.eps = 0.01\n",
    "        self.itr = itr\n",
    "        self.classes = np.zeros(self.nb_classes)\n",
    "        self.subset = {}\n",
    "        \n",
    "    \n",
    " \n",
    "    \n",
    "    def fit(self,X,y):\n",
    "\n",
    "        rand_init = np.random.rand(10,64)\n",
    "        self.mean = {k: np.random.uniform(1,size=X[0].size) for k in range(self.nb_classes)}\n",
    "        self.var = {k:np.random.uniform(0.5,size=X[0].size) + self.eps for k in range(self.nb_classes)}\n",
    "        r = np.zeros((len(X),self.nb_classes))\n",
    "        t = 1\n",
    "        while t < self.itr + 1:\n",
    "            \n",
    "            start = process_time() \n",
    "            # E-step\n",
    "            for idx,x in enumerate(X):\n",
    "                num = np.prod([norm.pdf(x, self.mean[k], np.sqrt(self.var[k]))\n",
    "                      for k in range(self.nb_classes)], axis = 1)\n",
    "                num = [self.priors[k]*num[k] for k in range(self.nb_classes)]\n",
    "                den = np.sum(num)\n",
    "                r[idx,:] = num/den    \n",
    "            \n",
    "            # M-step\n",
    "            N, c = r.shape  \n",
    "            self.priors = {c:np.sum(r[:,c])/N for c in range(self.nb_classes)}\n",
    "            mean = np.zeros(len(X[0]))\n",
    "            for c in range(self.nb_classes):\n",
    "                mean = np.sum([r[idx,c]*x for idx, x in enumerate(X)], axis=0)/np.sum(r[:,c])\n",
    "                self.mean[c] = mean\n",
    "                self.var[c] = np.sum([r[idx,c]*np.diag(np.outer(x, x)) for idx, x in enumerate(X)], axis=0)/np.sum(r[:,c]) - np.diag(np.outer(mean, mean)) + self.eps\n",
    "                \n",
    "            end = process_time()\n",
    "            print('Iteration:', t, end-start ,' seconds')\n",
    "            t += 1  \n",
    "    \n",
    "    def repair(self,X,y):\n",
    "        y_pred = self.prediction(X,False)\n",
    "        for idx,pred in enumerate(y_pred):\n",
    "            if pred in self.subset:\n",
    "                self.subset[pred].append(y[idx])\n",
    "            else:\n",
    "                self.subset[pred] = [y[idx]]\n",
    "#         cluster_label = {cluster:label}        \n",
    "        self.cluster_label = {i:np.argmax(np.bincount(self.subset[i])) for i in range(self.nb_classes)}\n",
    "   \n",
    "    def prediction(self,X,repaired=True):\n",
    "        pred = np.zeros((len(X),self.nb_classes))\n",
    "        for k in range(self.nb_classes):\n",
    "            pred[:,k] = mvn.logpdf(X, mean=self.mean[k], cov=self.var[k], allow_singular=True) + np.log(self.priors[k])      \n",
    "        \n",
    "        if repaired:\n",
    "              return [self.cluster_label[p] for p in np.argmax(pred, axis=1)]\n",
    "        else:\n",
    "            return np.argmax(pred, axis=1)\n",
    "    \n",
    " "
   ]
  },
  {
   "cell_type": "code",
   "execution_count": 4,
   "metadata": {
    "scrolled": true
   },
   "outputs": [
    {
     "name": "stdout",
     "output_type": "stream",
     "text": [
      "Iteration: 1 2.171875  seconds\n",
      "Iteration: 2 2.203125  seconds\n",
      "Iteration: 3 1.90625  seconds\n",
      "Iteration: 4 1.890625  seconds\n",
      "Iteration: 5 1.890625  seconds\n",
      "Iteration: 6 1.9375  seconds\n",
      "Iteration: 7 1.875  seconds\n",
      "Iteration: 8 1.828125  seconds\n",
      "Iteration: 9 2.015625  seconds\n",
      "Iteration: 10 1.9375  seconds\n",
      "Iteration: 11 1.890625  seconds\n",
      "Iteration: 12 1.875  seconds\n",
      "Iteration: 13 1.984375  seconds\n",
      "Iteration: 14 2.046875  seconds\n",
      "Iteration: 15 2.046875  seconds\n",
      "Iteration: 16 2.171875  seconds\n",
      "Iteration: 17 2.015625  seconds\n",
      "Iteration: 18 1.90625  seconds\n",
      "Iteration: 19 1.875  seconds\n",
      "Iteration: 20 1.828125  seconds\n",
      "Iteration: 21 1.859375  seconds\n",
      "Iteration: 22 1.890625  seconds\n",
      "Iteration: 23 1.84375  seconds\n",
      "Iteration: 24 1.921875  seconds\n",
      "Iteration: 25 1.875  seconds\n",
      "Iteration: 26 1.828125  seconds\n",
      "Iteration: 27 1.875  seconds\n",
      "Iteration: 28 1.875  seconds\n",
      "Iteration: 29 1.796875  seconds\n",
      "Iteration: 30 1.859375  seconds\n",
      "Iteration: 31 1.8125  seconds\n",
      "Iteration: 32 1.84375  seconds\n",
      "Iteration: 33 1.8125  seconds\n",
      "Iteration: 34 1.859375  seconds\n",
      "Iteration: 35 1.828125  seconds\n",
      "Iteration: 36 1.84375  seconds\n",
      "Iteration: 37 1.84375  seconds\n",
      "Iteration: 38 1.84375  seconds\n",
      "Iteration: 39 1.859375  seconds\n",
      "Iteration: 40 1.859375  seconds\n",
      "Iteration: 41 1.859375  seconds\n",
      "Iteration: 42 1.859375  seconds\n",
      "Iteration: 43 1.84375  seconds\n",
      "Iteration: 44 1.78125  seconds\n",
      "Iteration: 45 1.84375  seconds\n",
      "Iteration: 46 1.796875  seconds\n",
      "Iteration: 47 1.953125  seconds\n",
      "Iteration: 48 2.078125  seconds\n",
      "Iteration: 49 1.828125  seconds\n",
      "Iteration: 50 1.875  seconds\n",
      "Iteration: 51 1.90625  seconds\n",
      "Iteration: 52 1.90625  seconds\n",
      "Iteration: 53 1.890625  seconds\n",
      "Iteration: 54 1.828125  seconds\n",
      "Iteration: 55 1.875  seconds\n",
      "Iteration: 56 1.828125  seconds\n",
      "Iteration: 57 1.75  seconds\n",
      "Iteration: 58 1.859375  seconds\n",
      "Iteration: 59 1.78125  seconds\n",
      "Iteration: 60 1.84375  seconds\n",
      "Iteration: 61 1.84375  seconds\n",
      "Iteration: 62 1.890625  seconds\n",
      "Iteration: 63 1.84375  seconds\n",
      "Iteration: 64 1.875  seconds\n",
      "Iteration: 65 1.875  seconds\n",
      "Iteration: 66 1.84375  seconds\n",
      "Iteration: 67 2.046875  seconds\n",
      "Iteration: 68 2.34375  seconds\n",
      "Iteration: 69 1.890625  seconds\n",
      "Iteration: 70 2.046875  seconds\n",
      "Iteration: 71 2.0625  seconds\n",
      "Iteration: 72 2.28125  seconds\n",
      "Iteration: 73 2.21875  seconds\n",
      "Iteration: 74 2.1875  seconds\n",
      "Iteration: 75 1.984375  seconds\n",
      "Iteration: 76 1.828125  seconds\n",
      "Iteration: 77 1.84375  seconds\n",
      "Iteration: 78 1.828125  seconds\n",
      "Iteration: 79 1.859375  seconds\n",
      "Iteration: 80 1.84375  seconds\n",
      "Iteration: 81 1.828125  seconds\n",
      "Iteration: 82 1.8125  seconds\n",
      "Iteration: 83 1.859375  seconds\n",
      "Iteration: 84 1.8125  seconds\n",
      "Iteration: 85 1.828125  seconds\n",
      "Iteration: 86 1.859375  seconds\n",
      "Iteration: 87 1.84375  seconds\n",
      "Iteration: 88 1.875  seconds\n",
      "Iteration: 89 2.28125  seconds\n",
      "Iteration: 90 2.359375  seconds\n",
      "Iteration: 91 1.875  seconds\n",
      "Iteration: 92 1.828125  seconds\n",
      "Iteration: 93 1.84375  seconds\n",
      "Iteration: 94 1.796875  seconds\n",
      "Iteration: 95 1.859375  seconds\n",
      "Iteration: 96 1.84375  seconds\n",
      "Iteration: 97 1.828125  seconds\n",
      "Iteration: 98 1.890625  seconds\n",
      "Iteration: 99 1.84375  seconds\n",
      "Iteration: 100 1.859375  seconds\n"
     ]
    }
   ],
   "source": [
    "clf = GNBC(10,64,100)\n",
    "clf.fit(X_train,y_train)"
   ]
  },
  {
   "cell_type": "code",
   "execution_count": null,
   "metadata": {},
   "outputs": [],
   "source": []
  },
  {
   "cell_type": "code",
   "execution_count": 5,
   "metadata": {},
   "outputs": [
    {
     "name": "stdout",
     "output_type": "stream",
     "text": [
      "Classification report GNBC digits (unrepaired):\n",
      "              precision    recall  f1-score   support\n",
      "\n",
      "           0       1.00      0.98      0.99       125\n",
      "           1       0.48      0.33      0.39       132\n",
      "           2       0.00      0.00      0.00       130\n",
      "           3       0.01      0.01      0.01       129\n",
      "           4       0.00      0.00      0.00       121\n",
      "           5       0.00      0.00      0.00       116\n",
      "           6       0.00      0.00      0.00       128\n",
      "           7       0.00      0.00      0.00       124\n",
      "           8       0.00      0.00      0.00       131\n",
      "           9       0.01      0.02      0.01       121\n",
      "\n",
      "    accuracy                           0.14      1257\n",
      "   macro avg       0.15      0.13      0.14      1257\n",
      "weighted avg       0.15      0.14      0.14      1257\n",
      "\n",
      "\n",
      "Confusion matrix GNBC digits:\n",
      "[[123   0   0   0   0   0   0   2   0   0]\n",
      " [  0  44   0   1  14   3   0   0   0  70]\n",
      " [  0   7   0   0 120   0   0   0   0   3]\n",
      " [  0   1 103   1   2   0  12   0   3   7]\n",
      " [  0   0   0   1   0   0   0 110   7   3]\n",
      " [  0   0   0  81   0   0  32   0   1   2]\n",
      " [  0   0   0   0   0 126   0   1   0   1]\n",
      " [  0   2   0   0   0   0   0   0 116   6]\n",
      " [  0  21   0   1   4   1  23   0   0  81]\n",
      " [  0  17   3   1   0   0  92   0   6   2]]\n"
     ]
    }
   ],
   "source": [
    "y_pred = clf.prediction(X_train,repaired=False)\n",
    "lbs = [0,1,2,3,4,5,6,7,8,9]\n",
    "print(\"Classification report GNBC digits (unrepaired):\\n%s\\n\"\n",
    "          % (metrics.classification_report(y_train, y_pred,labels=lbs)))\n",
    "print(\"Confusion matrix GNBC digits:\\n%s\" % metrics.confusion_matrix(y_train, y_pred,labels=lbs))"
   ]
  },
  {
   "cell_type": "code",
   "execution_count": 6,
   "metadata": {},
   "outputs": [
    {
     "name": "stdout",
     "output_type": "stream",
     "text": [
      "Cluster: 0 => label: 0\n",
      "Cluster: 1 => label: 1\n",
      "Cluster: 2 => label: 3\n",
      "Cluster: 3 => label: 5\n",
      "Cluster: 4 => label: 2\n",
      "Cluster: 5 => label: 6\n",
      "Cluster: 6 => label: 9\n",
      "Cluster: 7 => label: 4\n",
      "Cluster: 8 => label: 7\n",
      "Cluster: 9 => label: 8\n"
     ]
    }
   ],
   "source": [
    "clf.repair(X_train,y_train)\n",
    "for k in range(10):\n",
    "    print('Cluster: '+ str(k) + ' => label: ' + str(clf.cluster_label[k]))\n"
   ]
  },
  {
   "cell_type": "code",
   "execution_count": 7,
   "metadata": {},
   "outputs": [
    {
     "name": "stdout",
     "output_type": "stream",
     "text": [
      "Classification report GNBC digits (repaired):\n",
      "              precision    recall  f1-score   support\n",
      "\n",
      "           0       1.00      0.98      0.99       125\n",
      "           1       0.48      0.33      0.39       132\n",
      "           2       0.86      0.92      0.89       130\n",
      "           3       0.97      0.80      0.88       129\n",
      "           4       0.97      0.91      0.94       121\n",
      "           5       0.94      0.70      0.80       116\n",
      "           6       0.97      0.98      0.98       128\n",
      "           7       0.87      0.94      0.90       124\n",
      "           8       0.46      0.62      0.53       131\n",
      "           9       0.58      0.76      0.66       121\n",
      "\n",
      "    accuracy                           0.79      1257\n",
      "   macro avg       0.81      0.79      0.80      1257\n",
      "weighted avg       0.81      0.79      0.79      1257\n",
      "\n",
      "\n",
      "Confusion matrix GNBC digits:\n",
      "[[123   0   0   0   2   0   0   0   0   0]\n",
      " [  0  44  14   0   0   1   3   0  70   0]\n",
      " [  0   7 120   0   0   0   0   0   3   0]\n",
      " [  0   1   2 103   0   1   0   3   7  12]\n",
      " [  0   0   0   0 110   1   0   7   3   0]\n",
      " [  0   0   0   0   0  81   0   1   2  32]\n",
      " [  0   0   0   0   1   0 126   0   1   0]\n",
      " [  0   2   0   0   0   0   0 116   6   0]\n",
      " [  0  21   4   0   0   1   1   0  81  23]\n",
      " [  0  17   0   3   0   1   0   6   2  92]]\n"
     ]
    }
   ],
   "source": [
    "y_pred = clf.prediction(X_train,repaired=True)\n",
    "print(\"Classification report GNBC digits (repaired):\\n%s\\n\"\n",
    "          % (metrics.classification_report(y_train, y_pred)))\n",
    "print(\"Confusion matrix GNBC digits:\\n%s\" % metrics.confusion_matrix(y_train, y_pred))"
   ]
  },
  {
   "cell_type": "code",
   "execution_count": 8,
   "metadata": {},
   "outputs": [
    {
     "name": "stdout",
     "output_type": "stream",
     "text": [
      "Classification report GNBC digits (repaired):\n",
      "              precision    recall  f1-score   support\n",
      "\n",
      "           0       1.00      0.94      0.97        53\n",
      "           1       0.54      0.30      0.38        50\n",
      "           2       0.77      0.94      0.85        47\n",
      "           3       0.97      0.72      0.83        54\n",
      "           4       0.96      0.92      0.94        60\n",
      "           5       0.97      0.59      0.74        66\n",
      "           6       0.98      0.96      0.97        53\n",
      "           7       0.83      0.95      0.88        55\n",
      "           8       0.45      0.65      0.53        43\n",
      "           9       0.52      0.80      0.63        59\n",
      "\n",
      "    accuracy                           0.78       540\n",
      "   macro avg       0.80      0.78      0.77       540\n",
      "weighted avg       0.81      0.78      0.78       540\n",
      "\n",
      "\n",
      "Confusion matrix GNBC digits:\n",
      "[[50  0  0  0  2  0  0  0  0  1]\n",
      " [ 0 15 10  0  0  0  0  0 25  0]\n",
      " [ 0  2 44  0  0  0  0  0  1  0]\n",
      " [ 0  1  2 39  0  0  0  2  3  7]\n",
      " [ 0  1  0  0 55  0  0  4  0  0]\n",
      " [ 0  0  0  0  0 39  1  1  1 24]\n",
      " [ 0  0  0  0  0  0 51  0  0  2]\n",
      " [ 0  1  0  0  0  0  0 52  2  0]\n",
      " [ 0  3  1  0  0  1  0  0 28 10]\n",
      " [ 0  5  0  1  0  0  0  4  2 47]]\n"
     ]
    }
   ],
   "source": [
    "y_pred = clf.prediction(X_test,True)\n",
    "print(\"Classification report GNBC digits (repaired):\\n%s\\n\"\n",
    "          % (metrics.classification_report(y_test, y_pred)))\n",
    "print(\"Confusion matrix GNBC digits:\\n%s\" % metrics.confusion_matrix(y_test, y_pred))"
   ]
  },
  {
   "cell_type": "code",
   "execution_count": null,
   "metadata": {},
   "outputs": [],
   "source": []
  },
  {
   "cell_type": "code",
   "execution_count": 9,
   "metadata": {},
   "outputs": [
    {
     "name": "stdout",
     "output_type": "stream",
     "text": [
      "Classification report K-means digits:\n",
      "              precision    recall  f1-score   support\n",
      "\n",
      "           0       0.00      0.00      0.00        55\n",
      "           1       0.00      0.00      0.00        51\n",
      "           2       0.11      0.09      0.09        70\n",
      "           3       0.00      0.00      0.00        47\n",
      "           4       0.00      0.00      0.00        51\n",
      "           5       0.00      0.00      0.00        55\n",
      "           6       0.00      0.00      0.00        75\n",
      "           7       0.83      0.88      0.85        59\n",
      "           8       0.00      0.00      0.00        23\n",
      "           9       0.02      0.04      0.03        54\n",
      "\n",
      "    accuracy                           0.11       540\n",
      "   macro avg       0.10      0.10      0.10       540\n",
      "weighted avg       0.11      0.11      0.11       540\n",
      "\n",
      "\n",
      "Confusion matrix K-means digits:\n",
      "[[ 0  0  0  0 52  0  0  3  0  0]\n",
      " [ 0  0 51  0  0  0  0  0  0  0]\n",
      " [ 0  3  6 35  0  0  0  2 10 14]\n",
      " [ 0  1  0  0  1  0  0  0 45  0]\n",
      " [ 0  1  0  0  0 40  0  6  2  2]\n",
      " [ 0  0  0  0  0  0 52  0  0  3]\n",
      " [ 0  0  0  5  0  0  0  0  0 70]\n",
      " [ 0  2  0  0  0  0  0 52  5  0]\n",
      " [ 0 21  0  0  2  0  0  0  0  0]\n",
      " [50  0  0  0  2  0  0  0  0  2]]\n"
     ]
    }
   ],
   "source": [
    "from sklearn.cluster import KMeans\n",
    "clust = KMeans(10).fit(X_test)\n",
    "y_test = clust.labels_\n",
    "print(\"Classification report K-means digits:\\n%s\\n\"\n",
    "          % (metrics.classification_report(y_test, y_pred)))\n",
    "print(\"Confusion matrix K-means digits:\\n%s\" % metrics.confusion_matrix(y_test, y_pred))"
   ]
  },
  {
   "cell_type": "code",
   "execution_count": null,
   "metadata": {},
   "outputs": [],
   "source": []
  }
 ],
 "metadata": {
  "kernelspec": {
   "display_name": "Python 3",
   "language": "python",
   "name": "python3"
  },
  "language_info": {
   "codemirror_mode": {
    "name": "ipython",
    "version": 3
   },
   "file_extension": ".py",
   "mimetype": "text/x-python",
   "name": "python",
   "nbconvert_exporter": "python",
   "pygments_lexer": "ipython3",
   "version": "3.7.4"
  }
 },
 "nbformat": 4,
 "nbformat_minor": 2
}
