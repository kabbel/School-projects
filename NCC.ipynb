{
 "cells": [
  {
   "cell_type": "markdown",
   "source": [
    "# NCC\n"
   ],
   "metadata": {}
  },
  {
   "cell_type": "markdown",
   "source": [
    "## Data"
   ],
   "metadata": {}
  },
  {
   "cell_type": "code",
   "execution_count": 1,
   "source": [
    "import numpy as np\r\n",
    "from numpy import linalg as LA\r\n",
    "from sklearn import metrics\r\n",
    "from sklearn.datasets import load_digits\r\n",
    "from sklearn.model_selection import train_test_split\r\n"
   ],
   "outputs": [],
   "metadata": {}
  },
  {
   "cell_type": "code",
   "execution_count": 2,
   "source": [
    "X,y = load_digits(return_X_y=True)\r\n",
    "X_train, X_test, y_train, y_test = train_test_split(X,y,test_size=0.3)\r\n"
   ],
   "outputs": [],
   "metadata": {}
  },
  {
   "cell_type": "code",
   "execution_count": 3,
   "source": [
    "def revamp(X):\r\n",
    "    X_out = np.zeros(np.shape(X))\r\n",
    "    for i in range(len(X)):\r\n",
    "        for j in range(len(X[1])):\r\n",
    "            value = X[i][j]\r\n",
    "            if value < 5.0:\r\n",
    "                X_out[i][j] = 0 #'DARK'\r\n",
    "            elif value > 10.0:\r\n",
    "                X_out[i][j] = 2 #'LIGHT'\r\n",
    "            else:\r\n",
    "                X_out[i][j] = 1 #'GRAY'\r\n",
    "    return X_out\r\n",
    "#Summerised into 0,1,2 aka DARK, LIGHT, GRAY\r\n",
    "X_train_sum = revamp(X_train)\r\n",
    "X_test_sum = revamp(X_test)"
   ],
   "outputs": [],
   "metadata": {}
  },
  {
   "cell_type": "code",
   "execution_count": 4,
   "source": [
    "import MNIST\r\n",
    "mnist = MNIST.MNISTData('MNIST_Light/*/*.png')\r\n",
    "train_features, test_features, train_labels, test_labels = mnist.get_data()"
   ],
   "outputs": [],
   "metadata": {}
  },
  {
   "cell_type": "markdown",
   "source": [
    "## Classifier"
   ],
   "metadata": {}
  },
  {
   "cell_type": "code",
   "execution_count": 5,
   "source": [
    "class NCC:\r\n",
    "    def __init__(self,nbr_classes, sample_size):\r\n",
    "        self.nbr_classes = nbr_classes\r\n",
    "        self.sample_size = sample_size\r\n",
    "        self.cent_mean = np.zeros((nbr_classes,sample_size))\r\n",
    "    \r\n",
    "    def fit(self, X, y):\r\n",
    "        count = np.zeros(self.nbr_classes)\r\n",
    "        for i in range(len(y)):\r\n",
    "            for j in range(len(X[i])):\r\n",
    "                self.cent_mean[y[i]][j] += X[i][j]\r\n",
    "                count[y[i]] += 1\r\n",
    "        for i in range(self.nbr_classes):\r\n",
    "            self.cent_mean[i] /= count[i]\r\n",
    "    \r\n",
    "    def prediction(self, X):\r\n",
    "        y = np.zeros(len(X))\r\n",
    "        for i in range(len(y)):\r\n",
    "            dist = np.zeros(self.nbr_classes)\r\n",
    "            for j in range(len(dist)):\r\n",
    "                dist[j] = LA.norm(X[i]-self.cent_mean[j])\r\n",
    "            y[i] = np.argmin(dist)\r\n",
    "        return y"
   ],
   "outputs": [],
   "metadata": {}
  },
  {
   "cell_type": "markdown",
   "source": [
    "## Digits"
   ],
   "metadata": {}
  },
  {
   "cell_type": "code",
   "execution_count": 6,
   "source": [
    "ncc_dig = NCC(10,len(X_test[1]))\n",
    "ncc_dig.fit(X_train,y_train)\n",
    "y_pred = ncc_dig.prediction(X_test)\n"
   ],
   "outputs": [],
   "metadata": {}
  },
  {
   "cell_type": "code",
   "execution_count": 7,
   "source": [
    "import matplotlib.pyplot as plt\n",
    "im = np.reshape(ncc_dig.cent_mean[9],(8,8))\n",
    "plt.imshow(im)"
   ],
   "outputs": [
    {
     "output_type": "execute_result",
     "data": {
      "text/plain": [
       "<matplotlib.image.AxesImage at 0x214488d1888>"
      ]
     },
     "metadata": {},
     "execution_count": 7
    },
    {
     "output_type": "display_data",
     "data": {
      "image/png": "[encoded data removed]",
      "text/plain": [
       "<Figure size 432x288 with 1 Axes>"
      ]
     },
     "metadata": {
      "needs_background": "light"
     }
    }
   ],
   "metadata": {}
  },
  {
   "cell_type": "code",
   "execution_count": 8,
   "source": [
    "print(\"Classification report NCC digits:\\n%s\\n\"\n",
    "          % (metrics.classification_report(y_test, y_pred)))\n",
    "print(\"Confusion matrix NCC digits:\\n%s\" % metrics.confusion_matrix(y_test, y_pred))"
   ],
   "outputs": [
    {
     "output_type": "stream",
     "name": "stdout",
     "text": [
      "Classification report NCC digits:\n",
      "              precision    recall  f1-score   support\n",
      "\n",
      "           0       0.92      0.98      0.95        49\n",
      "           1       0.85      0.78      0.81        64\n",
      "           2       0.94      0.87      0.91        55\n",
      "           3       0.96      0.92      0.94        50\n",
      "           4       0.89      0.92      0.91        52\n",
      "           5       1.00      0.79      0.88        52\n",
      "           6       0.92      0.95      0.94        64\n",
      "           7       0.89      0.93      0.91        54\n",
      "           8       0.64      0.95      0.77        38\n",
      "           9       0.84      0.77      0.81        62\n",
      "\n",
      "    accuracy                           0.88       540\n",
      "   macro avg       0.89      0.89      0.88       540\n",
      "weighted avg       0.89      0.88      0.88       540\n",
      "\n",
      "\n",
      "Confusion matrix NCC digits:\n",
      "[[48  0  0  0  1  0  0  0  0  0]\n",
      " [ 0 50  2  0  0  0  4  0  5  3]\n",
      " [ 1  2 48  1  0  0  0  1  2  0]\n",
      " [ 0  0  1 46  0  0  0  2  1  0]\n",
      " [ 0  3  0  0 48  0  0  1  0  0]\n",
      " [ 1  0  0  0  1 41  1  0  2  6]\n",
      " [ 1  1  0  0  0  0 61  0  1  0]\n",
      " [ 0  1  0  0  0  0  0 50  3  0]\n",
      " [ 0  2  0  0  0  0  0  0 36  0]\n",
      " [ 1  0  0  1  4  0  0  2  6 48]]\n"
     ]
    }
   ],
   "metadata": {}
  },
  {
   "cell_type": "markdown",
   "source": [
    "## Digits summerised"
   ],
   "metadata": {}
  },
  {
   "cell_type": "code",
   "execution_count": 9,
   "source": [
    "ncc_dig2 = NCC(10,len(X_test[1]))\n",
    "ncc_dig2.fit(X_train_sum, y_train)\n",
    "y_pred = ncc_dig2.prediction(X_test_sum)"
   ],
   "outputs": [],
   "metadata": {}
  },
  {
   "cell_type": "code",
   "execution_count": 10,
   "source": [
    "import matplotlib.pyplot as plt\n",
    "im = np.reshape(ncc_dig2.cent_mean[9],(8,8))\n",
    "plt.imshow(im)"
   ],
   "outputs": [
    {
     "output_type": "execute_result",
     "data": {
      "text/plain": [
       "<matplotlib.image.AxesImage at 0x21449e05d08>"
      ]
     },
     "metadata": {},
     "execution_count": 10
    },
    {
     "output_type": "display_data",
     "data": {
      "image/png": "[encoded data removed]",
      "text/plain": [
       "<Figure size 432x288 with 1 Axes>"
      ]
     },
     "metadata": {
      "needs_background": "light"
     }
    }
   ],
   "metadata": {}
  },
  {
   "cell_type": "code",
   "execution_count": 11,
   "source": [
    "print(\"Classification report NCC digits (summarised):\\n%s\\n\"\n",
    "          % (metrics.classification_report(y_test, y_pred)))\n",
    "print(\"Confusion matrix NCC digits (summarised):\\n%s\" % metrics.confusion_matrix(y_test, y_pred))"
   ],
   "outputs": [
    {
     "output_type": "stream",
     "name": "stdout",
     "text": [
      "Classification report NCC digits (summarised):\n",
      "              precision    recall  f1-score   support\n",
      "\n",
      "           0       0.89      1.00      0.94        49\n",
      "           1       0.84      0.64      0.73        64\n",
      "           2       0.96      0.80      0.87        55\n",
      "           3       0.94      0.90      0.92        50\n",
      "           4       0.91      0.92      0.91        52\n",
      "           5       1.00      0.77      0.87        52\n",
      "           6       0.90      0.95      0.92        64\n",
      "           7       0.91      0.89      0.90        54\n",
      "           8       0.54      1.00      0.70        38\n",
      "           9       0.78      0.73      0.75        62\n",
      "\n",
      "    accuracy                           0.85       540\n",
      "   macro avg       0.86      0.86      0.85       540\n",
      "weighted avg       0.87      0.85      0.85       540\n",
      "\n",
      "\n",
      "Confusion matrix NCC digits (summarised):\n",
      "[[49  0  0  0  0  0  0  0  0  0]\n",
      " [ 0 41  2  0  0  0  5  0 12  4]\n",
      " [ 2  3 44  1  0  0  1  1  3  0]\n",
      " [ 0  0  0 45  0  0  0  1  3  1]\n",
      " [ 0  3  0  0 48  0  0  1  0  0]\n",
      " [ 0  0  0  1  1 40  1  0  1  8]\n",
      " [ 1  1  0  0  0  0 61  0  1  0]\n",
      " [ 0  1  0  0  0  0  0 48  5  0]\n",
      " [ 0  0  0  0  0  0  0  0 38  0]\n",
      " [ 3  0  0  1  4  0  0  2  7 45]]\n"
     ]
    }
   ],
   "metadata": {}
  },
  {
   "cell_type": "markdown",
   "source": [
    "## MNIST_light"
   ],
   "metadata": {}
  },
  {
   "cell_type": "code",
   "execution_count": 12,
   "source": [
    "ncc_mnist = NCC(10,len(train_features[1]))\n",
    "ncc_mnist.fit(train_features, train_labels)\n",
    "pred_labels = ncc_mnist.prediction(test_features)"
   ],
   "outputs": [],
   "metadata": {}
  },
  {
   "cell_type": "code",
   "execution_count": 13,
   "source": [
    "import matplotlib.pyplot as plt\n",
    "im = np.reshape(ncc_mnist.cent_mean[4],(20,20))\n",
    "plt.imshow(im)"
   ],
   "outputs": [
    {
     "output_type": "execute_result",
     "data": {
      "text/plain": [
       "<matplotlib.image.AxesImage at 0x21449e785c8>"
      ]
     },
     "metadata": {},
     "execution_count": 13
    },
    {
     "output_type": "display_data",
     "data": {
      "image/png": "[encoded data removed]",
      "text/plain": [
       "<Figure size 432x288 with 1 Axes>"
      ]
     },
     "metadata": {
      "needs_background": "light"
     }
    }
   ],
   "metadata": {}
  },
  {
   "cell_type": "code",
   "execution_count": 14,
   "source": [
    "print(\"Classification report NCC:\\n%s\\n\"\n",
    "          % (metrics.classification_report(test_labels, pred_labels)))\n",
    "print(\"Confusion matrix NCC:\\n%s\" % metrics.confusion_matrix(test_labels, pred_labels))"
   ],
   "outputs": [
    {
     "output_type": "stream",
     "name": "stdout",
     "text": [
      "Classification report NCC:\n",
      "              precision    recall  f1-score   support\n",
      "\n",
      "           0       0.42      0.98      0.59       164\n",
      "           1       1.00      0.28      0.44       152\n",
      "           2       0.84      0.66      0.74       155\n",
      "           3       0.79      0.67      0.73       154\n",
      "           4       0.97      0.48      0.64       143\n",
      "           5       0.00      0.00      0.00       141\n",
      "           6       0.86      0.85      0.86       143\n",
      "           7       0.97      0.66      0.78       158\n",
      "           8       0.29      0.87      0.43       132\n",
      "           9       0.75      0.51      0.61       158\n",
      "\n",
      "    accuracy                           0.60      1500\n",
      "   macro avg       0.69      0.60      0.58      1500\n",
      "weighted avg       0.70      0.60      0.59      1500\n",
      "\n",
      "\n",
      "Confusion matrix NCC:\n",
      "[[161   0   1   0   0   0   0   0   2   0]\n",
      " [  0  43   0   0   0   0   1   0 108   0]\n",
      " [ 20   0 102   5   0   0   7   0  21   0]\n",
      " [ 21   0   3 103   0   0   1   1  25   0]\n",
      " [ 19   0   1   0  68   0   9   0  24  22]\n",
      " [ 85   0   2  17   0   0   1   0  36   0]\n",
      " [ 13   0   4   0   0   0 122   0   4   0]\n",
      " [ 19   0   3   0   1   0   0 104  27   4]\n",
      " [ 15   0   0   2   0   0   0   0 115   0]\n",
      " [ 26   0   5   3   1   0   1   2  40  80]]\n"
     ]
    },
    {
     "output_type": "stream",
     "name": "stderr",
     "text": [
      "C:\\Users\\Victor\\Anaconda3\\lib\\site-packages\\sklearn\\metrics\\classification.py:1437: UndefinedMetricWarning: Precision and F-score are ill-defined and being set to 0.0 in labels with no predicted samples.\n",
      "  'precision', 'predicted', average, warn_for)\n"
     ]
    }
   ],
   "metadata": {}
  },
  {
   "cell_type": "code",
   "execution_count": null,
   "source": [],
   "outputs": [],
   "metadata": {}
  }
 ],
 "metadata": {
  "kernelspec": {
   "display_name": "Python 3",
   "language": "python",
   "name": "python3"
  },
  "language_info": {
   "codemirror_mode": {
    "name": "ipython",
    "version": 3
   },
   "file_extension": ".py",
   "mimetype": "text/x-python",
   "name": "python",
   "nbconvert_exporter": "python",
   "pygments_lexer": "ipython3",
   "version": "3.7.4"
  }
 },
 "nbformat": 4,
 "nbformat_minor": 2
}